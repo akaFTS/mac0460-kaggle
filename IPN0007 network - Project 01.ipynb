{
 "cells": [
  {
   "cell_type": "code",
   "execution_count": 40,
   "metadata": {},
   "outputs": [
    {
     "name": "stdout",
     "output_type": "stream",
     "text": [
      "PyTorch version = 0.4.0 \n"
     ]
    }
   ],
   "source": [
    "# imports\n",
    "\n",
    "import os\n",
    "import subprocess\n",
    "import numpy as np\n",
    "import torch\n",
    "import torch.nn as nn\n",
    "import torch.nn.functional as F\n",
    "import matplotlib.pyplot as plt\n",
    "\n",
    "from torch.utils.data import TensorDataset\n",
    "from torch.utils.data import DataLoader\n",
    "\n",
    "print(\"PyTorch version = {} \".format(torch.__version__))"
   ]
  },
  {
   "cell_type": "code",
   "execution_count": 41,
   "metadata": {},
   "outputs": [],
   "source": [
    "all_data = np.array([\n",
    "    [-1.0000, -1.0000, -1.0000], \n",
    "    [-1.0000, 1.0000, 1.0000],\n",
    "    [1.0000, -1.0000, 1.0000],\n",
    "    [1.0000, 1.0000, -1.0000]\n",
    "])\n",
    "\n",
    "np.random.shuffle(all_data)\n",
    "\n",
    "train_x = all_data[0:,0:2]\n",
    "train_y = all_data[0:,2].reshape(-1, 1)"
   ]
  },
  {
   "cell_type": "code",
   "execution_count": 42,
   "metadata": {},
   "outputs": [],
   "source": [
    "# define hyperparams\n",
    "\n",
    "class LRConfig(object):\n",
    "    \"\"\"\n",
    "    Holds logistic regression model hyperparams.\n",
    "    \n",
    "    :param height: image height\n",
    "    :type heights: int\n",
    "    :param width: image width\n",
    "    :type width: int\n",
    "    :param channels: image channels\n",
    "    :type channels: int\n",
    "    :param batch_size: batch size for training\n",
    "    :type batch_size: int\n",
    "    :param epochs: number of epochs\n",
    "    :type epochs: int\n",
    "    :param save_step: when step % save_step == 0, the model\n",
    "                      parameters are saved.\n",
    "    :type save_step: int\n",
    "    :param learning_rate: learning rate for the optimizer\n",
    "    :type learning_rate: float\n",
    "    :param momentum: momentum param\n",
    "    :type momentum: float\n",
    "    \"\"\"\n",
    "    def __init__(self,\n",
    "                 epochs=3,\n",
    "                 learning_rate=0.01,\n",
    "                 momentum=0.1,\n",
    "                 weight_decay=0.1,\n",
    "                 architecture=[100, 3]):\n",
    "        self.epochs = epochs\n",
    "        self.learning_rate = learning_rate\n",
    "        self.momentum = momentum\n",
    "        self.architecture = architecture\n",
    "        self.weight_decay = weight_decay\n",
    "        \n",
    "\n",
    "    def __str__(self):\n",
    "        \"\"\"\n",
    "        Get all attributs values.\n",
    "        :return: all hyperparams as a string\n",
    "        :rtype: str\n",
    "        \"\"\"\n",
    "        status = \"epochs = {}\\n\".format(self.epochs)\n",
    "        status += \"learning_rate = {}\\n\".format(self.learning_rate)\n",
    "        status += \"momentum = {}\\n\".format(self.momentum)\n",
    "        status += \"architecture = {}\\n\".format(self.architecture)\n",
    "        status += \"weight_decay = {}\\n\".format(self.weight_decay)\n",
    "\n",
    "        return status"
   ]
  },
  {
   "cell_type": "code",
   "execution_count": 60,
   "metadata": {},
   "outputs": [
    {
     "name": "stdout",
     "output_type": "stream",
     "text": [
      "Os hiper parâmetros do modelo de regressão logística são:\n",
      "\n",
      "epochs = 1000\n",
      "learning_rate = 0.2\n",
      "momentum = 0\n",
      "architecture = [1, 1]\n",
      "weight_decay = 0\n",
      "\n"
     ]
    }
   ],
   "source": [
    "# set hyperparams\n",
    "\n",
    "lr_config = LRConfig()\n",
    "lr_config.epochs = 1000\n",
    "lr_config.learning_rate = 0.2\n",
    "lr_config.momentum = 0\n",
    "lr_config.architecture = [1, 1]\n",
    "lr_config.weight_decay = 0\n",
    "print(\"Os hiper parâmetros do modelo de regressão logística são:\\n\")\n",
    "print(lr_config)"
   ]
  },
  {
   "cell_type": "code",
   "execution_count": 61,
   "metadata": {},
   "outputs": [],
   "source": [
    "# organizing data\n",
    "\n",
    "class DataHolder():\n",
    "    \"\"\"\n",
    "    Class to store all data.\n",
    "\n",
    "    :param config: hyper params configuration\n",
    "    :type config: LRConfig or DFNConfig\n",
    "    :param train_dataset: dataset of training data\n",
    "    :type train_dataset: torch.utils.data.dataset.TensorDataset\n",
    "    :param test_dataset: dataset of test data\n",
    "    :type test_dataset: torch.utils.data.dataset.TensorDataset\n",
    "    :param valid_dataset: dataset of valid data\n",
    "    :type valid_dataset: torch.utils.data.dataset.TensorDataset\n",
    "    :param batch_size: batch size for training\n",
    "    :type test_batch: batch size for the testing data\n",
    "    :param test_batch: int\n",
    "    \"\"\"\n",
    "    def __init__(self,\n",
    "                 config,\n",
    "                 train_dataset):\n",
    "                \n",
    "        self.train_loader = DataLoader(dataset=train_dataset,\n",
    "                                       batch_size=len(train_dataset),\n",
    "                                       shuffle=True)\n",
    "\n",
    "train_dataset = TensorDataset(torch.Tensor(train_x),\n",
    "                              torch.Tensor(train_y))\n",
    "\n",
    "self_driving_data = DataHolder(lr_config, train_dataset) "
   ]
  },
  {
   "cell_type": "code",
   "execution_count": 62,
   "metadata": {},
   "outputs": [],
   "source": [
    "# define DFN model\n",
    "\n",
    "class DFN(nn.Module):\n",
    "\n",
    "    def __init__(self, config):\n",
    "        super(DFN, self).__init__()\n",
    "        self.classes = 1\n",
    "        self.params = 2\n",
    "        self.num_layers = len(config.architecture)\n",
    "        p_in = self.params\n",
    "        for step, layer in enumerate(config.architecture):\n",
    "            p_out = layer\n",
    "            self.add_module(\"lin\"+str(step), nn.Linear(p_in, p_out))\n",
    "            self.add_module(\"relu\"+str(step), nn.Tanh())\n",
    "            p_in = p_out\n",
    "        self.add_module(\"softmax\", nn.Softmax(1))\n",
    "\n",
    "\n",
    "    def forward(self, x):\n",
    "        \"\"\"\n",
    "        Computes forward pass\n",
    "\n",
    "        :param x: input tensor\n",
    "        :type x: torch.FloatTensor(shape=(batch_size, number_of_features))\n",
    "        :return: logits\n",
    "        :rtype: torch.FloatTensor(shape=[batch_size, number_of_classes])\n",
    "        \"\"\"\n",
    "        inn = x\n",
    "        for i in range(self.num_layers):\n",
    "            linear = getattr(self, \"lin\"+str(i))\n",
    "            mid = linear(inn)\n",
    "            relu = getattr(self, \"relu\"+str(i))\n",
    "            out = relu(mid)\n",
    "            inn = out\n",
    "        logits = out\n",
    "        return logits\n",
    "\n",
    "    def predict(self, x):\n",
    "        logits = self.forward(x)\n",
    "        probs = self.softmax(logits)\n",
    "        predictions = probs.argmax(dim=1)\n",
    "        return predictions"
   ]
  },
  {
   "cell_type": "code",
   "execution_count": 69,
   "metadata": {},
   "outputs": [],
   "source": [
    "# model trainer\n",
    "\n",
    "def train_model_classification(model,\n",
    "                                   config,\n",
    "                                   dataholder,\n",
    "                                   criterion, \n",
    "                                   optimizer):\n",
    "\n",
    "    train_loader = dataholder.train_loader\n",
    "\n",
    "    train_loss = []\n",
    "    for epoch in range(config.epochs):\n",
    "        for step, (images, labels) in enumerate(train_loader):\n",
    "            optimizer.zero_grad()\n",
    "            pred = model(images)\n",
    "            loss = criterion(pred, labels) \n",
    "                    \n",
    "            loss.backward()\n",
    "            optimizer.step()\n",
    "            \n",
    "            if step % 10 == 0:\n",
    "                train_loss.append(float(loss))\n",
    " \n",
    "                        \n",
    "    # Plot\n",
    "    x = np.arange(1, len(train_loss) + 1, 1)\n",
    "    fig, ax = plt.subplots(1, 1, figsize=(12, 5))\n",
    "    ax.plot(x, train_loss, label='Energia TT')\n",
    "    ax.legend()\n",
    "    plt.ylim(0, 1.2)\n",
    "    plt.xlabel('época')\n",
    "    plt.ylabel('energia')\n",
    "    plt.title('Energia TT (ii=1)')\n",
    "    plt.grid(True)\n",
    "    plt.show()\n",
    "        \n",
    "\n"
   ]
  },
  {
   "cell_type": "code",
   "execution_count": 70,
   "metadata": {
    "scrolled": true
   },
   "outputs": [
    {
     "data": {
      "image/png": "[encoded data removed]",
      "text/plain": [
       "<Figure size 864x360 with 1 Axes>"
      ]
     },
     "metadata": {},
     "output_type": "display_data"
    }
   ],
   "source": [
    "model = DFN(lr_config)\n",
    "criterion = nn.MSELoss()\n",
    "optimizer = torch.optim.SGD(model.parameters(), lr_config.learning_rate, lr_config.momentum, weight_decay=lr_config.weight_decay)\n",
    "\n",
    "train_model_classification(model,\n",
    "                               lr_config,\n",
    "                               self_driving_data,\n",
    "                               criterion,\n",
    "                               optimizer)"
   ]
  },
  {
   "cell_type": "code",
   "execution_count": null,
   "metadata": {},
   "outputs": [],
   "source": []
  },
  {
   "cell_type": "code",
   "execution_count": null,
   "metadata": {},
   "outputs": [],
   "source": []
  }
 ],
 "metadata": {
  "kernelspec": {
   "display_name": "Python 3",
   "language": "python",
   "name": "python3"
  },
  "language_info": {
   "codemirror_mode": {
    "name": "ipython",
    "version": 3
   },
   "file_extension": ".py",
   "mimetype": "text/x-python",
   "name": "python",
   "nbconvert_exporter": "python",
   "pygments_lexer": "ipython3",
   "version": "3.6.5"
  }
 },
 "nbformat": 4,
 "nbformat_minor": 2
}
